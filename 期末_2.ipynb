{
  "nbformat": 4,
  "nbformat_minor": 0,
  "metadata": {
    "colab": {
      "provenance": []
    },
    "kernelspec": {
      "name": "python3",
      "display_name": "Python 3"
    },
    "language_info": {
      "name": "python"
    },
    "gpuClass": "standard"
  },
  "cells": [
    {
      "cell_type": "markdown",
      "source": [
        "##車牌辨識"
      ],
      "metadata": {
        "id": "BOT6vCv45m7X"
      }
    },
    {
      "cell_type": "markdown",
      "source": [
        "請先放入predictPlate_sr、realPlate_sr兩個資料夾與haar_carplate.xml檔案後再開始執行"
      ],
      "metadata": {
        "id": "XRX_DBYbX9fD"
      }
    },
    {
      "cell_type": "markdown",
      "source": [
        "###開始轉換圖片尺\n",
        "\n"
      ],
      "metadata": {
        "id": "QAKn26UB10dh"
      }
    },
    {
      "cell_type": "code",
      "source": [
        "def emptydir(dirname):  #清空資料夾\n",
        "    if os.path.isdir(dirname):  #資料夾存在就刪除\n",
        "        shutil.rmtree(dirname)\n",
        "        sleep(2)  #需延遲,否則會出錯\n",
        "    os.mkdir(dirname)  #建立資料夾\n",
        "\n",
        "def dirResize(src, dst):\n",
        "    myfiles = glob.glob(src + '/*.jpg')  #讀取資料夾全部jpg檔案\n",
        "    emptydir(dst)\n",
        "    print(src + ' 資料夾：')\n",
        "    print('開始轉換圖形尺寸！')\n",
        "    for f in myfiles:\n",
        "        fname = f.split(\"/\")[-1]\n",
        "        img = Image.open(f)\n",
        "        img_new = img.resize((300, 225), PIL.Image.ANTIALIAS)  #尺寸300x225\n",
        "        img_new.save(dst + '/' + fname)\n",
        "    print('轉換圖形尺寸完成！\\n')\n",
        "\n",
        "import PIL\n",
        "from PIL import Image\n",
        "import glob\n",
        "import shutil, os\n",
        "from time import sleep\n",
        "\n",
        "dirResize('realPlate_sr', 'realPlate')\n",
        "dirResize('predictPlate_sr', 'predictPlate')"
      ],
      "metadata": {
        "colab": {
          "base_uri": "https://localhost:8080/"
        },
        "id": "vmsIT8tjIup_",
        "outputId": "49bf18bb-ad98-462d-9f1b-7e975116b1ca"
      },
      "execution_count": null,
      "outputs": [
        {
          "output_type": "stream",
          "name": "stdout",
          "text": [
            "realPlate_sr 資料夾：\n",
            "開始轉換圖形尺寸！\n",
            "轉換圖形尺寸完成！\n",
            "\n",
            "predictPlate_sr 資料夾：\n",
            "開始轉換圖形尺寸！\n",
            "轉換圖形尺寸完成！\n",
            "\n"
          ]
        }
      ]
    },
    {
      "cell_type": "markdown",
      "source": [
        "###擷取車牌"
      ],
      "metadata": {
        "id": "ap7in4Tu2GRN"
      }
    },
    {
      "cell_type": "code",
      "source": [
        "def emptydir(dirname):  #清空資料夾\n",
        "    if os.path.isdir(dirname):  #資料夾存在就刪除\n",
        "        shutil.rmtree(dirname)\n",
        "        sleep(2)  #需延遲,否則會出錯\n",
        "    os.mkdir(dirname)  #建立資料夾\n",
        "\n",
        "import cv2\n",
        "from PIL import Image\n",
        "import glob\n",
        "import shutil, os\n",
        "from time import sleep\n",
        "\n",
        "print('開始擷取車牌！')\n",
        "print('無法擷取車牌的圖片：')\n",
        "dstdir = 'cropPlate'\n",
        "myfiles = glob.glob(\"realPlate/*.jpg\")\n",
        "emptydir(dstdir)\n",
        "for imgname in myfiles:\n",
        "    filename = (imgname.split('/'))[-1]  #取得檔案名稱\n",
        "    img = cv2.imread(imgname)  #讀入圖形\n",
        "    detector = cv2.CascadeClassifier('haar_carplate.xml')\n",
        "    signs = detector.detectMultiScale(img, scaleFactor=1.1, minNeighbors=3, minSize=(20, 20))  #框出車牌\n",
        "    #割取車牌\n",
        "    if len(signs) > 0 :\n",
        "        for (x, y, w, h) in signs:          \n",
        "            image1 = Image.open(imgname)\n",
        "            image2 = image1.crop((x, y, x+w, y+h))  #擷取車牌圖形\n",
        "            image3 = image2.resize((140, 40), Image.ANTIALIAS)  #轉換尺寸為140X40\n",
        "            image3.save(dstdir + '/tem.jpg')\n",
        "            image4 = cv2.imread(dstdir + '/tem.jpg')  #以opencv讀車牌檔\n",
        "            img_gray = cv2.cvtColor(image4, cv2.COLOR_RGB2GRAY)  #灰階\n",
        "            _, img_thre = cv2.threshold(img_gray, 100, 255, cv2.THRESH_BINARY)  #黑白\n",
        "            cv2.imwrite(dstdir + '/'+ filename, img_thre)\n",
        "    else:\n",
        "        print(filename)\n",
        "\n",
        "os.remove(dstdir + '/tem.jpg')  #移除暫存檔\n",
        "print('擷取車牌結束！')"
      ],
      "metadata": {
        "colab": {
          "base_uri": "https://localhost:8080/"
        },
        "id": "G9I6JicWJyOz",
        "outputId": "0bdaa00e-8971-4a6c-aecd-6dff853597cf"
      },
      "execution_count": null,
      "outputs": [
        {
          "output_type": "stream",
          "name": "stdout",
          "text": [
            "開始擷取車牌！\n",
            "無法擷取車牌的圖片：\n",
            "擷取車牌結束！\n"
          ]
        }
      ]
    },
    {
      "cell_type": "markdown",
      "source": [
        "###擷取數字"
      ],
      "metadata": {
        "id": "3CzSFK5U2OuF"
      }
    },
    {
      "cell_type": "code",
      "source": [
        "def emptydir(dirname):  #清空資料夾\n",
        "    if os.path.isdir(dirname):  #資料夾存在就刪除\n",
        "        shutil.rmtree(dirname)\n",
        "        sleep(2)  #需延遲,否則會出錯\n",
        "    os.mkdir(dirname)  #建立資料夾\n",
        "\n",
        "import cv2\n",
        "import glob\n",
        "import shutil, os\n",
        "from time import sleep\n",
        "\n",
        "print('開始擷取車牌數字！')\n",
        "emptydir('cropNum')\n",
        "myfiles = glob.glob('cropPlate/*.jpg')\n",
        "for f in myfiles:\n",
        "    filename = (f.split('/'))[-1].replace('.jpg', '')  #移除檔名中的「.jpg」\n",
        "    emptydir('cropNum/' + filename)  #以車牌號碼做資料夾名稱\n",
        "    image = cv2.imread(f)  #讀取車牌號碼圖片\n",
        "    gray = cv2.cvtColor(image, cv2.COLOR_BGR2GRAY)  #灰階\n",
        "    _,thresh = cv2.threshold(gray, 127, 255, cv2.THRESH_BINARY_INV)  #轉為黑白\n",
        "    contours1 = cv2.findContours(thresh.copy(), cv2.RETR_EXTERNAL, cv2.CHAIN_APPROX_SIMPLE)  #尋找輪廓\n",
        "    contours = contours1[0]  #取得輪廓\n",
        "    letter_image_regions = []  #文字圖形串列\n",
        "    for contour in contours:  #依序處理輪廓\n",
        "        (x, y, w, h) = cv2.boundingRect(contour)  #單一輪廓資料\n",
        "        letter_image_regions.append((x, y, w, h))  #輪廓資料加入串列\n",
        "    letter_image_regions = sorted(letter_image_regions, key=lambda x: x[0])  #按X坐標排序\n",
        "    #存檔\n",
        "    i=0\n",
        "    for letter_bounding_box in letter_image_regions:  #依序處理輪廓資料\n",
        "        x, y, w, h = letter_bounding_box\n",
        "        if w>=5 and h>30 and h<40:  #長度>6且高度在30-48才是文字\n",
        "            letter_image = gray[y:y+h, x:x+w]  #擷取圖形\n",
        "            letter_image = cv2.resize(letter_image, (18, 38))\n",
        "            cv2.imwrite('cropNum/' + filename + '/{}.jpg'.format(i+1), letter_image)  #存各車牌文字檔\n",
        "            i += 1\n",
        "print('擷取車牌數字結束！')"
      ],
      "metadata": {
        "colab": {
          "base_uri": "https://localhost:8080/"
        },
        "id": "XqIuqmouJ26b",
        "outputId": "019eb462-e2bf-45b6-fe09-c5dc68faf5c4"
      },
      "execution_count": null,
      "outputs": [
        {
          "output_type": "stream",
          "name": "stdout",
          "text": [
            "開始擷取車牌數字！\n",
            "擷取車牌數字結束！\n"
          ]
        }
      ]
    },
    {
      "cell_type": "markdown",
      "source": [
        "###建立文字庫"
      ],
      "metadata": {
        "id": "-uXSbBGq2Um1"
      }
    },
    {
      "cell_type": "code",
      "source": [
        "def emptydir(dirname):  #清空資料夾\n",
        "    if os.path.isdir(dirname):  #資料夾存在就刪除\n",
        "        shutil.rmtree(dirname)\n",
        "        sleep(2)  #需延遲,否則會出錯\n",
        "    os.mkdir(dirname)  #建立資料夾\n",
        "\n",
        "import glob\n",
        "import shutil, os\n",
        "from time import sleep\n",
        "\n",
        "print('開始建立文字庫！')\n",
        "emptydir('platefont')\n",
        "fontlist = ['0','1','2','3','4','5','6','7','8','9','A','B','C','D','E','F','G','H','J','K','L','M','N','P','Q','R','S','T','U','V','W','X','Y','Z']\n",
        "for i in range(len(fontlist)):  #建立文字資料夾\n",
        "    emptydir('platefont/' + fontlist[i])\n",
        "dirs = os.listdir('cropNum')  #讀取所有檔案及資料夾\n",
        "picnum = 1  #圖片記數器,讓檔名不會重複\n",
        "for d in dirs:\n",
        "    if os.path.isdir('cropNum/' + d):  #只處理資料夾\n",
        "        myfiles = sorted(glob.glob('cropNum/' + d + '/*.jpg'))\n",
        "        for i, f in enumerate(myfiles):\n",
        "            shutil.copyfile(f, 'platefont/{}/{}.jpg'.format(d[i], picnum))  #存入對應資料夾\n",
        "            picnum += 1\n",
        "print('建立文字庫結束！')"
      ],
      "metadata": {
        "colab": {
          "base_uri": "https://localhost:8080/"
        },
        "id": "x9Y7caYJJ_Kt",
        "outputId": "64e7cd48-6979-48ea-d26f-f9e7f2b548fd"
      },
      "execution_count": null,
      "outputs": [
        {
          "output_type": "stream",
          "name": "stdout",
          "text": [
            "開始建立文字庫！\n",
            "建立文字庫結束！\n"
          ]
        }
      ]
    },
    {
      "cell_type": "markdown",
      "source": [
        "###建立訓練資料夾"
      ],
      "metadata": {
        "id": "yfnPRPxJ2YUN"
      }
    },
    {
      "cell_type": "code",
      "source": [
        "def emptydir(dirname):  #清空資料夾\n",
        "    if os.path.isdir(dirname):  #資料夾存在就刪除\n",
        "        shutil.rmtree(dirname)\n",
        "        sleep(2)  #需延遲,否則會出錯\n",
        "    os.mkdir(dirname)  #建立資料夾\n",
        "\n",
        "import cv2\n",
        "import random\n",
        "import glob\n",
        "import shutil, os\n",
        "from time import sleep\n",
        "\n",
        "fontlist = ['0','1','2','3','4','5','6','7','8','9','A','B','C','D','E','F','G','H','J','K','L','M','N','P','Q','R','S','T','U','V','W','X','Y','Z']\n",
        "print('開始建立訓練資料！')\n",
        "emptydir('data')\n",
        "for n in range(len(fontlist)):\n",
        "    print('產生 data/' + fontlist[n] +' 資料夾')\n",
        "    emptydir('data/' + fontlist[n])\n",
        "    myfiles = glob.glob('platefont/' + fontlist[n] + '/*.jpg')\n",
        "    for index, f in enumerate(myfiles):\n",
        "        pic_total = 500  #每個文字檔案數\n",
        "        pic_each = int(pic_total / len(myfiles)) + 1\n",
        "        for i in range(pic_each):  #i 為檔案名稱\n",
        "            img = cv2.imread(f)\n",
        "            for j in range(20):  #加入指定數量雜點\n",
        "                x = random.randint(0, 17)  #以亂數設定位置\n",
        "                y = random.randint(0, 37)\n",
        "                cv2.circle(img, (x, y), 1, (0,0,0), -1)  #畫點\n",
        "            cv2.imwrite('data/' + fontlist[n] + '/{:0>4d}.jpg'.format(index*pic_each+i+1), img)  #存檔\n",
        "print('建立訓練資料結束！')"
      ],
      "metadata": {
        "colab": {
          "base_uri": "https://localhost:8080/"
        },
        "id": "BT3lRUIaKCIj",
        "outputId": "3095e981-34a9-4075-d80b-283024f3487f"
      },
      "execution_count": null,
      "outputs": [
        {
          "output_type": "stream",
          "name": "stdout",
          "text": [
            "開始建立訓練資料！\n",
            "產生 data/0 資料夾\n",
            "產生 data/1 資料夾\n",
            "產生 data/2 資料夾\n",
            "產生 data/3 資料夾\n",
            "產生 data/4 資料夾\n",
            "產生 data/5 資料夾\n",
            "產生 data/6 資料夾\n",
            "產生 data/7 資料夾\n",
            "產生 data/8 資料夾\n",
            "產生 data/9 資料夾\n",
            "產生 data/A 資料夾\n",
            "產生 data/B 資料夾\n",
            "產生 data/C 資料夾\n",
            "產生 data/D 資料夾\n",
            "產生 data/E 資料夾\n",
            "產生 data/F 資料夾\n",
            "產生 data/G 資料夾\n",
            "產生 data/H 資料夾\n",
            "產生 data/J 資料夾\n",
            "產生 data/K 資料夾\n",
            "產生 data/L 資料夾\n",
            "產生 data/M 資料夾\n",
            "產生 data/N 資料夾\n",
            "產生 data/P 資料夾\n",
            "產生 data/Q 資料夾\n",
            "產生 data/R 資料夾\n",
            "產生 data/S 資料夾\n",
            "產生 data/T 資料夾\n",
            "產生 data/U 資料夾\n",
            "產生 data/V 資料夾\n",
            "產生 data/W 資料夾\n",
            "產生 data/X 資料夾\n",
            "產生 data/Y 資料夾\n",
            "產生 data/Z 資料夾\n",
            "建立訓練資料結束！\n"
          ]
        }
      ]
    },
    {
      "cell_type": "markdown",
      "source": [
        "###訓練"
      ],
      "metadata": {
        "id": "IOt5ic1T2b_o"
      }
    },
    {
      "cell_type": "code",
      "source": [
        "import cv2\n",
        "import os.path\n",
        "import numpy as np\n",
        "from imutils import paths\n",
        "from sklearn.preprocessing import LabelBinarizer\n",
        "from sklearn.model_selection import train_test_split\n",
        "from keras.models import Sequential\n",
        "from keras.layers.convolutional import Conv2D, MaxPooling2D\n",
        "from keras.layers.core import Flatten, Dense\n",
        "\n",
        "imagedir = \"data\"  #訓練資料\n",
        "modelname = \"carplate_model.hdf5\"  #模型名稱\n",
        "data = []  #資料串列\n",
        "labels = []  #標籤串列\n",
        "\n",
        "#讀取資料\n",
        "for image_file in paths.list_images(imagedir):\n",
        "    image = cv2.imread(image_file)\n",
        "    image = cv2.cvtColor(image, cv2.COLOR_BGR2GRAY)  #轉為灰階\n",
        "    label = image_file.split(os.path.sep)[-2]  #擷取文字資料夾名稱\n",
        "    data.append(image)  #加入圖形\n",
        "    labels.append(label)  #加入標籤\n",
        "data = np.array(data)  #轉換為numpy array\n",
        "labels = np.array(labels)\n",
        "\n",
        "#訓練資料佔85%\n",
        "(X_train, X_test, Y_train, Y_test) = train_test_split(data, labels, test_size=0.15, random_state=0)\n",
        "#標準化資料\n",
        "X_train_normalize=X_train.reshape(X_train.shape[0],38,18,1).astype(\"float\") / 255.0\n",
        "X_test_normalize=X_test.reshape(X_test.shape[0],38,18,1).astype(\"float\") / 255.0\n",
        "#轉換標籤為one-hot\n",
        "lb = LabelBinarizer().fit(Y_train)\n",
        "Y_train_OneHot = lb.transform(Y_train)\n",
        "Y_test_OneHot = lb.transform(Y_test)\n",
        "\n",
        "#建立模型\n",
        "model = Sequential()\n",
        "#神經網路\n",
        "model.add(Conv2D(20, (5, 5), padding=\"same\", input_shape=(38, 18, 1), activation=\"relu\"))\n",
        "model.add(MaxPooling2D(pool_size=(2, 2), strides=(2, 2)))\n",
        "model.add(Conv2D(50, (5, 5), padding=\"same\", activation=\"relu\"))\n",
        "model.add(MaxPooling2D(pool_size=(2, 2), strides=(2, 2)))\n",
        "model.add(Flatten())\n",
        "model.add(Dense(500, activation=\"relu\"))\n",
        "model.add(Dense(34, activation=\"softmax\"))  #34類\n",
        "model.compile(loss=\"categorical_crossentropy\", optimizer=\"adam\", metrics=[\"accuracy\"])\n",
        "#開始訓練\n",
        "model.fit(X_train_normalize, Y_train_OneHot, validation_split=0.2, batch_size=32, epochs=10, verbose=1)\n",
        "model.save(modelname)  #儲存模型\n",
        "\n",
        "#準確率\n",
        "scores = model.evaluate(X_train_normalize , Y_train_OneHot)\n",
        "print(scores[1])\n",
        "scores2 = model.evaluate(X_test_normalize , Y_test_OneHot)\n",
        "print(scores2[1])\n"
      ],
      "metadata": {
        "colab": {
          "base_uri": "https://localhost:8080/"
        },
        "id": "JDhOFlsEKFvD",
        "outputId": "30ce1d2b-ee1a-46b5-ec06-89fc34bf5d22"
      },
      "execution_count": null,
      "outputs": [
        {
          "output_type": "stream",
          "name": "stdout",
          "text": [
            "Epoch 1/10\n",
            "366/366 [==============================] - 27s 72ms/step - loss: 0.2789 - accuracy: 0.9308 - val_loss: 0.0287 - val_accuracy: 0.9935\n",
            "Epoch 2/10\n",
            "366/366 [==============================] - 26s 71ms/step - loss: 0.0126 - accuracy: 0.9970 - val_loss: 0.0600 - val_accuracy: 0.9843\n",
            "Epoch 3/10\n",
            "366/366 [==============================] - 26s 70ms/step - loss: 0.0069 - accuracy: 0.9981 - val_loss: 0.0035 - val_accuracy: 0.9990\n",
            "Epoch 4/10\n",
            "366/366 [==============================] - 26s 70ms/step - loss: 0.0061 - accuracy: 0.9985 - val_loss: 0.0011 - val_accuracy: 0.9997\n",
            "Epoch 5/10\n",
            "366/366 [==============================] - 26s 70ms/step - loss: 9.7908e-05 - accuracy: 1.0000 - val_loss: 3.6078e-04 - val_accuracy: 1.0000\n",
            "Epoch 6/10\n",
            "366/366 [==============================] - 26s 71ms/step - loss: 4.4714e-05 - accuracy: 1.0000 - val_loss: 2.1563e-04 - val_accuracy: 1.0000\n",
            "Epoch 7/10\n",
            "366/366 [==============================] - 26s 71ms/step - loss: 2.5270e-05 - accuracy: 1.0000 - val_loss: 2.5643e-04 - val_accuracy: 1.0000\n",
            "Epoch 8/10\n",
            "366/366 [==============================] - 26s 71ms/step - loss: 1.9284e-05 - accuracy: 1.0000 - val_loss: 1.8571e-04 - val_accuracy: 1.0000\n",
            "Epoch 9/10\n",
            "366/366 [==============================] - 31s 85ms/step - loss: 1.1422e-05 - accuracy: 1.0000 - val_loss: 2.0644e-04 - val_accuracy: 1.0000\n",
            "Epoch 10/10\n",
            "366/366 [==============================] - 26s 71ms/step - loss: 8.6851e-06 - accuracy: 1.0000 - val_loss: 2.7783e-04 - val_accuracy: 1.0000\n",
            "457/457 [==============================] - 9s 20ms/step - loss: 6.0333e-05 - accuracy: 1.0000\n",
            "1.0\n",
            "81/81 [==============================] - 2s 20ms/step - loss: 1.5421e-05 - accuracy: 1.0000\n",
            "1.0\n"
          ]
        }
      ]
    },
    {
      "cell_type": "markdown",
      "source": [
        "###擷取文字"
      ],
      "metadata": {
        "id": "GCdSaRoQ2eTs"
      }
    },
    {
      "cell_type": "code",
      "source": [
        "def emptydir(dirname):  #清空資料夾\n",
        "    if os.path.isdir(dirname):  #資料夾存在就刪除\n",
        "        shutil.rmtree(dirname)\n",
        "        sleep(2)  #需延遲,否則會出錯\n",
        "    os.mkdir(dirname)  #建立資料夾\n",
        "\n",
        "import cv2\n",
        "import shutil, os\n",
        "from time import sleep\n",
        "\n",
        "emptydir('cropMono')\n",
        "image = cv2.imread('cropPlate/7238N2.jpg')\n",
        "gray = cv2.cvtColor(image, cv2.COLOR_BGR2GRAY)  #灰階\n",
        "_,thresh = cv2.threshold(gray, 127, 255, cv2.THRESH_BINARY_INV)  #轉為黑白\n",
        "contours1 = cv2.findContours(thresh.copy(), cv2.RETR_EXTERNAL, cv2.CHAIN_APPROX_SIMPLE)  #尋找輪廓\n",
        "contours = contours1[0]  #取得輪廓\n",
        "letter_image_regions = []  #文字圖形串列\n",
        "for contour in contours:  #依序處理輪廓\n",
        "    (x, y, w, h) = cv2.boundingRect(contour)  #單一輪廓資料\n",
        "    letter_image_regions.append((x, y, w, h))  #輪廓資料加入串列\n",
        "letter_image_regions = sorted(letter_image_regions, key=lambda x: x[0])  #按X坐標排序\n",
        "print(letter_image_regions)\n",
        "#存檔\n",
        "i=1\n",
        "for letter_bounding_box in letter_image_regions:  #依序處理輪廓資料\n",
        "    x, y, w, h = letter_bounding_box\n",
        "    if w>=5 and h>30 and h<40:  #長度>6且高度在33-39才是文字\n",
        "        letter_image = gray[y:y+h, x:x+w]  #擷取圖形\n",
        "        letter_image = cv2.resize(letter_image, (18, 38))\n",
        "        cv2.imwrite('cropMono/{}.jpg'.format(i), letter_image)  #存檔\n",
        "        i += 1"
      ],
      "metadata": {
        "colab": {
          "base_uri": "https://localhost:8080/"
        },
        "id": "zv-COgcJmUJe",
        "outputId": "fe48c268-f254-4245-f856-0fd6e00f001f"
      },
      "execution_count": null,
      "outputs": [
        {
          "output_type": "stream",
          "name": "stdout",
          "text": [
            "[(0, 0, 14, 40), (13, 8, 18, 32), (29, 0, 12, 3), (33, 8, 16, 32), (46, 39, 1, 1), (52, 9, 15, 31), (69, 9, 16, 31), (87, 25, 3, 3), (92, 8, 15, 32), (100, 0, 9, 3), (109, 9, 15, 31), (125, 0, 15, 40), (133, 15, 1, 1)]\n"
          ]
        }
      ]
    },
    {
      "cell_type": "markdown",
      "source": [
        "###預測單一車牌號"
      ],
      "metadata": {
        "id": "Z0TXigmY29aN"
      }
    },
    {
      "cell_type": "code",
      "source": [
        "from keras.models import load_model\n",
        "from PIL import Image\n",
        "import numpy as np\n",
        "import os\n",
        "\n",
        "labels = ['0','1','2','3','4','5','6','7','8','9','A','B','C','D','E','F','G','H','J','K','L','M','N','P','Q','R','S','T','U','V','W','X','Y','Z']  #標籤值\n",
        "datan = 0  #車牌文字數,即檔案數\n",
        "for fname in os.listdir('cropMono'):\n",
        "    if os.path.isfile(os.path.join('cropMono', fname)):\n",
        "        datan += 1\n",
        "tem_data = []\n",
        "for index in range(1, (datan+1)):  #讀取預測資料\n",
        "    tem_data.append((np.array(Image.open(\"cropMono/\" + str(index) +\".jpg\")))/255.0)\n",
        "real_data = np.stack(tem_data)  #(6,38,18)\n",
        "real_data1 = np.expand_dims(real_data, axis=3)  #轉換為(6,38,18,1)\n",
        "model = load_model(\"carplate_model.hdf5\")  #讀取模型\n",
        "predictions = model.predict(real_data1)  #預測資料\n",
        "print('車牌號碼為：')\n",
        "for i in range(len(predictions)):  #顯示結果\n",
        "    print(labels[int(np.argmax(predictions[i], axis=-1))], end='') "
      ],
      "metadata": {
        "colab": {
          "base_uri": "https://localhost:8080/"
        },
        "id": "aMYUSvH-KIng",
        "outputId": "ff6d31a9-530a-4f16-9cc1-13f005f6c399"
      },
      "execution_count": null,
      "outputs": [
        {
          "output_type": "stream",
          "name": "stdout",
          "text": [
            "1/1 [==============================] - 0s 100ms/step\n",
            "車牌號碼為：\n",
            "7238N2"
          ]
        }
      ]
    },
    {
      "cell_type": "markdown",
      "source": [
        "###預測車牌號"
      ],
      "metadata": {
        "id": "-u6QSV_23G9b"
      }
    },
    {
      "cell_type": "code",
      "source": [
        "def emptydir(dirname):  #清空資料夾\n",
        "    if os.path.isdir(dirname):  #資料夾存在就刪除\n",
        "        shutil.rmtree(dirname)\n",
        "        sleep(2)  #需延遲,否則會出錯\n",
        "    os.mkdir(dirname)  #建立資料夾\n",
        "\n",
        "from keras.models import load_model\n",
        "from PIL import Image\n",
        "import numpy as np\n",
        "import cv2\n",
        "import shutil, os\n",
        "from time import sleep \n",
        "\n",
        "labels = ['0','1','2','3','4','5','6','7','8','9','A','B','C','D','E','F','G','H','J','K','L','M','N','P','Q','R','S','T','U','V','W','X','Y','Z']  #標籤值\n",
        "#擷取車牌\n",
        "imgname = '1710YC.jpg'\n",
        "dirname = 'recogdata'\n",
        "emptydir(dirname)\n",
        "img = cv2.imread('predictPlate/' + imgname)\n",
        "detector = cv2.CascadeClassifier('haar_carplate.xml')\n",
        "signs = detector.detectMultiScale(img, scaleFactor=1.1, minNeighbors=3, minSize=(20, 20))\n",
        "if len(signs) > 0 :\n",
        "    for (x, y, w, h) in signs:          \n",
        "        image1 = Image.open('predictPlate/' + imgname)\n",
        "        image2 = image1.crop((x, y, x+w, y+h))\n",
        "        image3 = image2.resize((140, 40), Image.ANTIALIAS)\n",
        "        image3.save('tem.jpg')\n",
        "        image4 = cv2.imread('tem.jpg')\n",
        "        gray = cv2.cvtColor(image4, cv2.COLOR_RGB2GRAY)\n",
        "        _, img_thre = cv2.threshold(gray, 100, 255, cv2.THRESH_BINARY)\n",
        "        cv2.imwrite('tem.jpg', img_thre)\n",
        "    #分割文字\n",
        "    img_tem = cv2.imread('tem.jpg')\n",
        "    gray = cv2.cvtColor(img_tem, cv2.COLOR_BGR2GRAY)\n",
        "    _, thresh = cv2.threshold(gray, 127, 255, cv2.THRESH_BINARY_INV)  #轉為黑白\n",
        "    contours1 = cv2.findContours(thresh.copy(), cv2.RETR_EXTERNAL, cv2.CHAIN_APPROX_SIMPLE)  #尋找輪廓\n",
        "    contours = contours1[0]  #取得輪廓\n",
        "    letter_image_regions = []  #文字圖形串列\n",
        "    for contour in contours:  #依序處理輪廓\n",
        "        (x, y, w, h) = cv2.boundingRect(contour)  #單一輪廓資料\n",
        "        letter_image_regions.append((x, y, w, h))  #輪廓資料加入串列\n",
        "    letter_image_regions = sorted(letter_image_regions, key=lambda x: x[0])  #按X坐標排序\n",
        "    #存檔\n",
        "    i=1\n",
        "    for letter_bounding_box in letter_image_regions:  #依序處理輪廓資料\n",
        "        x, y, w, h = letter_bounding_box\n",
        "        if w>=5 and h>32 and h<40:  #長度>6且高度在30-48才是文字\n",
        "            letter_image = gray[y:y+h, x:x+w]  #擷取圖形\n",
        "            letter_image = cv2.resize(letter_image, (18, 38))\n",
        "            cv2.imwrite(dirname + '/{}.jpg'.format(i), letter_image)  #存檔\n",
        "            i += 1\n",
        "    #辨識車牌\n",
        "    datan = 0  #車牌文字數,即檔案數\n",
        "    for fname in os.listdir(dirname):\n",
        "        if os.path.isfile(os.path.join(dirname, fname)):\n",
        "            datan += 1\n",
        "    tem_data = []\n",
        "    for index in range(1, (datan+1)):  #讀取預測資料\n",
        "        tem_data.append((np.array(Image.open(\"recogdata/\" + str(index) +\".jpg\")))/255.0)\n",
        "    real_data = np.stack(tem_data)\n",
        "    real_data1 = np.expand_dims(real_data, axis=3)  #(7,38,18,1)\n",
        "    model = load_model(\"carplate_model.hdf5\")  #讀取模型\n",
        "    predictions = model.predict(real_data1)  #預測資料\n",
        "    print('車牌號碼為：')\n",
        "    for i in range(len(predictions)):  #顯示結果\n",
        "        print(labels[int(np.argmax(predictions[i], axis=-1))], end='') \n",
        "else:\n",
        "    print('無法擷取車牌！')\n",
        "os.remove('tem.jpg')"
      ],
      "metadata": {
        "id": "vjPYIgiZKK34",
        "colab": {
          "base_uri": "https://localhost:8080/"
        },
        "outputId": "070668e9-cf45-471f-e0b3-66ec8e357519"
      },
      "execution_count": null,
      "outputs": [
        {
          "output_type": "stream",
          "name": "stdout",
          "text": [
            "1/1 [==============================] - 0s 70ms/step\n",
            "車牌號碼為：\n",
            "1710YC"
          ]
        }
      ]
    },
    {
      "cell_type": "markdown",
      "source": [
        "###批次預測車牌號"
      ],
      "metadata": {
        "id": "NKLi4qd-3K1x"
      }
    },
    {
      "cell_type": "code",
      "source": [
        "def emptydir(dirname):  #清空資料夾\n",
        "    if os.path.isdir(dirname):  #資料夾存在就刪除\n",
        "        shutil.rmtree(dirname)\n",
        "        sleep(2)  #需延遲,否則會出錯\n",
        "    os.mkdir(dirname)  #建立資料夾\n",
        "\n",
        "from keras.models import load_model\n",
        "from PIL import Image\n",
        "import numpy as np\n",
        "import cv2\n",
        "import shutil, os\n",
        "from time import sleep \n",
        "import glob\n",
        "\n",
        "labels = ['0','1','2','3','4','5','6','7','8','9','A','B','C','D','E','F','G','H','J','K','L','M','N','P','Q','R','S','T','U','V','W','X','Y','Z']  #標籤值\n",
        "dirname = 'recogdata'\n",
        "model = load_model(\"carplate_model.hdf5\")  #讀取模型\n",
        "myfiles = glob.glob('predictPlate/*.jpg')\n",
        "for imgname in myfiles:\n",
        "    #擷取車牌\n",
        "    emptydir(dirname)\n",
        "    img = cv2.imread(imgname)\n",
        "    detector = cv2.CascadeClassifier('haar_carplate.xml')\n",
        "    signs = detector.detectMultiScale(img, scaleFactor=1.1, minNeighbors=3, minSize=(20, 20))\n",
        "    if len(signs) > 0 :\n",
        "        for (x, y, w, h) in signs:          \n",
        "            image1 = Image.open(imgname)\n",
        "            image2 = image1.crop((x, y, x+w, y+h))\n",
        "            image3 = image2.resize((140, 40), Image.ANTIALIAS)\n",
        "            image3.save('tem.jpg')\n",
        "            image4 = cv2.imread('tem.jpg')\n",
        "            gray = cv2.cvtColor(image4, cv2.COLOR_RGB2GRAY)\n",
        "            _, img_thre = cv2.threshold(gray, 100, 255, cv2.THRESH_BINARY)\n",
        "            cv2.imwrite('tem.jpg', img_thre)\n",
        "        #分割文字\n",
        "        img_tem = cv2.imread('tem.jpg')\n",
        "        gray = cv2.cvtColor(img_tem, cv2.COLOR_BGR2GRAY)\n",
        "        _,thresh = cv2.threshold(gray, 127, 255, cv2.THRESH_BINARY_INV)  #轉為黑白\n",
        "        contours1 = cv2.findContours(thresh.copy(), cv2.RETR_EXTERNAL, cv2.CHAIN_APPROX_SIMPLE)  #尋找輪廓\n",
        "        contours = contours1[0]  #取得輪廓\n",
        "        letter_image_regions = []  #文字圖形串列\n",
        "        for contour in contours:  #依序處理輪廓\n",
        "            (x, y, w, h) = cv2.boundingRect(contour)  #單一輪廓資料\n",
        "            letter_image_regions.append((x, y, w, h))  #輪廓資料加入串列\n",
        "        letter_image_regions = sorted(letter_image_regions, key=lambda x: x[0])  #按X坐標排序\n",
        "        #存檔\n",
        "        i=1\n",
        "        for letter_bounding_box in letter_image_regions:  #依序處理輪廓資料\n",
        "            x, y, w, h = letter_bounding_box\n",
        "            if w>=5 and h>32 and h<40:  #長度>6且高度在30-48才是文字\n",
        "                letter_image = gray[y:y+h, x:x+w]  #擷取圖形\n",
        "                letter_image = cv2.resize(letter_image, (18, 38))\n",
        "                cv2.imwrite(dirname + '/{}.jpg'.format(i), letter_image)  #存檔\n",
        "                i += 1\n",
        "        #辨識車牌\n",
        "        datan = 0  #車牌文字數,即檔案數\n",
        "        for fname in os.listdir(dirname):\n",
        "            if os.path.isfile(os.path.join(dirname, fname)):\n",
        "                datan += 1\n",
        "        tem_data = []\n",
        "        for index in range(1, (datan+1)):  #讀取預測資料\n",
        "            tem_data.append((np.array(Image.open(\"recogdata/\" + str(index) +\".jpg\")))/255.0)\n",
        "        real_data = np.stack(tem_data)\n",
        "        real_data1 = np.expand_dims(real_data, axis=3)  #轉換維度符合需求->(7,38,18,1)\n",
        "        predictions = model.predict(real_data1)  #預測資料\n",
        "        result = []\n",
        "        for i in range(len(predictions)):  #顯示結果\n",
        "              result.append(labels[int(np.argmax(predictions[i], axis=-1))])\n",
        "        print(imgname + ' --> ' + ''.join(result)) \n",
        "    else:\n",
        "        print('無法擷取車牌！')\n",
        "    ##os.remove('tem.jpg')"
      ],
      "metadata": {
        "id": "cdSkN_zOKPHM",
        "colab": {
          "base_uri": "https://localhost:8080/"
        },
        "outputId": "683bef20-4be2-41d3-fe1f-5dcecdbe960f"
      },
      "execution_count": null,
      "outputs": [
        {
          "output_type": "stream",
          "name": "stdout",
          "text": [
            "1/1 [==============================] - 0s 73ms/step\n",
            "predictPlate/1710YC.jpg --> 1710YC\n",
            "1/1 [==============================] - 0s 71ms/step\n",
            "predictPlate/AXK2738.jpg --> AXK2738\n",
            "1/1 [==============================] - 0s 22ms/step\n",
            "predictPlate/AUN6095.jpg --> AUN6095\n",
            "1/1 [==============================] - 0s 24ms/step\n",
            "predictPlate/AFS0568.jpg --> AFS0568\n",
            "1/1 [==============================] - 0s 25ms/step\n",
            "predictPlate/EW0835.jpg --> EW0835\n"
          ]
        }
      ]
    }
  ]
}